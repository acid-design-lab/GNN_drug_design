{
  "nbformat": 4,
  "nbformat_minor": 0,
  "metadata": {
    "colab": {
      "provenance": []
    },
    "kernelspec": {
      "name": "python3",
      "display_name": "Python 3"
    },
    "language_info": {
      "name": "python"
    }
  },
  "cells": [
    {
      "cell_type": "code",
      "execution_count": null,
      "metadata": {
        "id": "hCpVYIScTP5n"
      },
      "outputs": [],
      "source": [
        "def filter_correlations(dataframe,\n",
        "                            max_corr_threshold,\n",
        "                            mean_corr_threshold,\n",
        "                            features_to_keep):\n",
        "        \"\"\"\n",
        "        For every feature\n",
        "        1) skips all the next steps if in features_to_keep\n",
        "        2) counts mean and max correlations for Q3 quantile\n",
        "        3) compares max and mean values with max_corr_threshold and mean_corr_threshold, respectively\n",
        "        4) deletes if at least one number is bigger than the threshold\n",
        "        :param dataframe: table in the format of DataFrame object.\n",
        "        :param max_corr_threshold: the minimal level of correlation considered as \"strong\".\n",
        "        :param mean_corr_threshold: the minimal level of mean correlation considered as \"strong\".\n",
        "        :param features_to_keep: set of important chemical features to keep in any case (includes a target feature).\n",
        "        :return: a DataFrame object M columns (where M <= N) with chemical descriptors from Rdkit\n",
        "        + 1 column (target feature) with disease categories.\n",
        "        \"\"\"\n",
        "\n",
        "        columns_to_drop = features_to_keep + ['disease category', 'phase', 'status', 'iso_smiles']\n",
        "        descriptors = dataframe.drop(columns_to_drop, axis=1)\n",
        "\n",
        "\n",
        "        corr_matrix = descriptors.corr().abs()\n",
        "        Columns = corr_matrix.columns\n",
        "\n",
        "        correlated_descriptors = []\n",
        "\n",
        "        for i in range(len(corr_matrix.columns)):\n",
        "          for j in range(i):\n",
        "            if corr_matrix.iloc[i, j] > max_corr_threshold:\n",
        "              column_mean_corr_1 = np.mean(corr_matrix[Columns[i]])\n",
        "              column_mean_corr_2 = np.mean(corr_matrix[Columns[j]])\n",
        "              column_to_drop = i*(column_mean_corr_1 > mean_corr_threshold and column_mean_corr_1 > column_mean_corr_2) + j*(column_mean_corr_2 > mean_corr_threshold and column_mean_corr_2 > column_mean_corr_1)\n",
        "              correlated_descriptors.append(Columns[column_to_drop])\n",
        "\n",
        "        corr_filtered_dataset_with_descriptors = dataframe.drop(correlated_descriptors, axis=1)\n",
        "\n",
        "        corr_filtered_dataset_with_descriptors['iso_smiles'] = dataframe['iso_smiles']\n",
        "        corr_filtered_dataset_with_descriptors['phase'] = dataframe['phase']\n",
        "        corr_filtered_dataset_with_descriptors['status'] = dataframe['status']\n",
        "        corr_filtered_dataset_with_descriptors['disease category'] = dataframe['disease category']\n",
        "\n",
        "        return corr_filtered_dataset_with_descriptors"
      ]
    }
  ]
}