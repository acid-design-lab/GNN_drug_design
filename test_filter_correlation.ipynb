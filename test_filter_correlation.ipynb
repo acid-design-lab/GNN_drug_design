{
  "nbformat": 4,
  "nbformat_minor": 0,
  "metadata": {
    "colab": {
      "provenance": []
    },
    "kernelspec": {
      "name": "python3",
      "display_name": "Python 3"
    },
    "language_info": {
      "name": "python"
    }
  },
  "cells": [
    {
      "cell_type": "code",
      "execution_count": null,
      "metadata": {
        "id": "hCpVYIScTP5n"
      },
      "outputs": [],
      "source": [
        "%%file test_filter_correlation.py\n",
        "!pip install pytest\n",
        "import pandas as pd\n",
        "import numpy as np\n",
        "import pytest\n",
        "from scipy import stats\n",
        "\n",
        "def filter_correlations(dataframe, max_corr_threshold, mean_corr_threshold, features_to_keep):\n",
        "        \"\"\"\n",
        "        For every feature\n",
        "        1) skips all the next steps if in features_to_keep\n",
        "        2) counts mean and max correlations for Q3 quantile\n",
        "        3) compares max and mean values with max_corr_threshold and mean_corr_threshold, respectively\n",
        "        4) deletes if at least one number is bigger than the threshold\n",
        "        :param dataframe: table in the format of DataFrame object.\n",
        "        :param max_corr_threshold: the minimal level of correlation considered as \"strong\".\n",
        "        :param mean_corr_threshold: the minimal level of mean correlation considered as \"strong\".\n",
        "        :param features_to_keep: set of important chemical features to keep in any case (includes a target feature).\n",
        "        :return: a DataFrame object M columns (where M <= N) with chemical descriptors from Rdkit\n",
        "        + 1 column (target feature) with disease categories.\n",
        "        \"\"\"\n",
        "        columns_to_drop = features_to_keep + ['disease category', 'phase', 'status', 'iso_smiles']\n",
        "        descriptors = dataframe.drop(columns_to_drop, axis=1)\n",
        "\n",
        "        corr_matrix = descriptors.corr().abs()\n",
        "        Columns = corr_matrix.columns\n",
        "\n",
        "        #upper = corr_matrix.where(np.triu(np.ones(corr_matrix.shape), k=1).astype(bool))\n",
        "\n",
        "        correlated_descriptors = []\n",
        "\n",
        "        for i in range(len(corr_matrix.columns)):\n",
        "          for j in range(i):\n",
        "            if corr_matrix.iloc[i, j] > max_corr_threshold:\n",
        "              column_mean_corr_1 = np.mean(corr_matrix[Columns[i]])\n",
        "              column_mean_corr_2 = np.mean(corr_matrix[Columns[j]])\n",
        "              column_to_drop = i*(column_mean_corr_1 > mean_corr_threshold and column_mean_corr_1 > column_mean_corr_2) + j*(column_mean_corr_2 > mean_corr_threshold and column_mean_corr_2 > column_mean_corr_1)\n",
        "              correlated_descriptors.append(Columns[column_to_drop])\n",
        "\n",
        "        corr_filtered_dataset_with_descriptors = dataframe.drop(correlated_descriptors, axis=1)\n",
        "\n",
        "\n",
        "        corr_filtered_dataset_with_descriptors['iso_smiles'] = dataframe['iso_smiles']\n",
        "        corr_filtered_dataset_with_descriptors['phase'] = dataframe['phase']\n",
        "        corr_filtered_dataset_with_descriptors['status'] = dataframe['status']\n",
        "        corr_filtered_dataset_with_descriptors['disease category'] = dataframe['disease category']\n",
        "\n",
        "        return corr_filtered_dataset_with_descriptors\n",
        "\n",
        "@pytest.fixture\n",
        "def df():\n",
        "    data = {\n",
        "        'feature1': [None, 8, -40,-10],\n",
        "        'feature2': [1, None, -4, 7],\n",
        "        'feature3': [0, -11, 11, 2],\n",
        "        'feature4': [-13, -50, 18, 30],\n",
        "        'feature5': [5, -19, 0, -4],\n",
        "        'disease category': np.random.choice(['A', 'B'], 4),\n",
        "        'phase': np.random.choice(['I', 'II', 'III', None], 4),\n",
        "        'status': np.random.choice(['active', 'inactive'], 4),\n",
        "        'iso_smiles': ['COO']*4\n",
        "    }\n",
        "\n",
        "    return pd.DataFrame(data)\n",
        "\n",
        "def test_filter_correlation(df):\n",
        "\n",
        "    max_corr_threshold = 0.8\n",
        "    mean_corr_threshold = 0.7\n",
        "\n",
        "    features_to_keep = ['feature1']\n",
        "\n",
        "    # Применяем функцию\n",
        "    filtered_df = filter_correlations(df, max_corr_threshold, mean_corr_threshold, features_to_keep)\n",
        "\n",
        "    assert df.shape[0] == filtered_df.shape[0]\n",
        "    assert df.shape[1] == 9\n",
        "    assert filtered_df.isnull().values.any()\n",
        "    assert 'feature3' not in filtered_df\n"
      ]
    },
    {
      "cell_type": "code",
      "source": [
        "!python -m pytest test_filter_correlation.py"
      ],
      "metadata": {
        "colab": {
          "base_uri": "https://localhost:8080/"
        },
        "id": "AiqS_95T_8V_",
        "outputId": "6762c432-facf-48e8-b022-cf2aec7db827"
      },
      "execution_count": null,
      "outputs": [
        {
          "output_type": "stream",
          "name": "stdout",
          "text": [
            "\u001b[1m======================================= test session starts ========================================\u001b[0m\n",
            "platform linux -- Python 3.10.12, pytest-7.4.4, pluggy-1.4.0\n",
            "rootdir: /content\n",
            "plugins: anyio-3.7.1\n",
            "collected 1 item                                                                                   \u001b[0m\n",
            "\n",
            "test_filter_correlation.py \u001b[32m.\u001b[0m\u001b[32m                                                                 [100%]\u001b[0m\n",
            "\n",
            "\u001b[32m======================================== \u001b[32m\u001b[1m1 passed\u001b[0m\u001b[32m in 1.22s\u001b[0m\u001b[32m =========================================\u001b[0m\n"
          ]
        }
      ]
    }
  ]
}