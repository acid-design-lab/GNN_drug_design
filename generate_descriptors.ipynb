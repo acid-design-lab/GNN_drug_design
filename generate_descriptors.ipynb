{
  "nbformat": 4,
  "nbformat_minor": 0,
  "metadata": {
    "colab": {
      "provenance": []
    },
    "kernelspec": {
      "name": "python3",
      "display_name": "Python 3"
    },
    "language_info": {
      "name": "python"
    }
  },
  "cells": [
    {
      "cell_type": "code",
      "execution_count": null,
      "metadata": {
        "id": "GsZ5xzpqH-pH"
      },
      "outputs": [],
      "source": [
        "def generate_descriptors(file_path, smiles_column_name, phase_column_name, status_column_name, disease_column_name):\n",
        "\n",
        "        data = pd.read_csv(file_path)[[smiles_column_name, phase_column_name, status_column_name, disease_column_name]]\n",
        "\n",
        "        unique_data = data.dropna(subset=[smiles_column_name, disease_column_name]).drop_duplicates(subset=[smiles_column_name, disease_column_name]).reset_index(drop=True)\n",
        "\n",
        "        invalid_smiles = []\n",
        "        for smile in  unique_data[smiles_column_name]:\n",
        "          mol = Chem.MolFromSmiles(smile)\n",
        "          if mol is None:\n",
        "           invalid_smiles.append(smile)\n",
        "\n",
        "        verify_data =  unique_data[~ unique_data[smiles_column_name].isin(invalid_smiles)]\n",
        "\n",
        "        desc_list = Chem.Descriptors.descList\n",
        "        unique_desc_set = set(desc_list)\n",
        "        unique_desc_list = list(unique_desc_set)\n",
        "\n",
        "        descriptors = [x[0] for x in unique_desc_list]\n",
        "        calculator = MolecularDescriptorCalculator(descriptors)\n",
        "\n",
        "        dataset_with_descriptors = []\n",
        "\n",
        "        for smile in verify_data[smiles_column_name]:\n",
        "         mol = Chem.MolFromSmiles(smile)\n",
        "         descriptors_values = calculator.CalcDescriptors(mol)\n",
        "         dataset_with_descriptors.append(descriptors_values)\n",
        "        dataset_with_descriptors = pd.DataFrame(dataset_with_descriptors, columns=descriptors)\n",
        "\n",
        "        descripted_data = pd.concat([verify_data.reset_index(drop=True), dataset_with_descriptors], axis=1)\n",
        "\n",
        "        return descripted_data"
      ]
    }
  ]
}