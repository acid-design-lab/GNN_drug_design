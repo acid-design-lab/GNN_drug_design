{
  "nbformat": 4,
  "nbformat_minor": 0,
  "metadata": {
    "colab": {
      "provenance": []
    },
    "kernelspec": {
      "name": "python3",
      "display_name": "Python 3"
    },
    "language_info": {
      "name": "python"
    }
  },
  "cells": [
    {
      "cell_type": "code",
      "source": [
        "%%file test_filter_by_variance.py\n",
        "!pip install pytest\n",
        "import pandas as pd\n",
        "import numpy as np\n",
        "import pytest\n",
        "from sklearn import preprocessing\n",
        "\n",
        "\n",
        "def filter_by_variance(dataframe, var_threshold, features_to_keep):\n",
        "    \"\"\"\n",
        "    :param dataframe: table in the format of DataFrame object.\n",
        "    :param var_threshold: the minimal level of tolerable feature variance.\n",
        "    :param features_to_keep: list of column names of the features to keep.\n",
        "    :param target_feature: column name of a target feature to predict further.\n",
        "    :return: a DataFrame object M columns (where M <= N) with chemical descriptors from Rdkit\n",
        "    + 1 column with disease categories.\n",
        "    \"\"\"\n",
        "\n",
        "    columns_to_drop = features_to_keep + ['disease category', 'phase', 'status', 'iso_smiles']\n",
        "    descriptors_to_filt = dataframe.drop(columns_to_drop, axis=1)\n",
        "\n",
        "    var_filtered_dataset_with_descriptors = pd.DataFrame()\n",
        "\n",
        "    to_save = dataframe[features_to_keep]\n",
        "\n",
        "    scaler = preprocessing.MinMaxScaler()\n",
        "    scaled_descriptors = pd.DataFrame(scaler.fit_transform(descriptors_to_filt), columns=descriptors_to_filt.columns)\n",
        "\n",
        "    filter = scaled_descriptors.loc[:, scaled_descriptors.var() < var_threshold]\n",
        "    filtered_data = descriptors_to_filt.drop(columns=filter.columns, axis=1)\n",
        "\n",
        "    var_filtered_dataset_with_descriptors = filtered_data.join(to_save, how='outer')\n",
        "    var_filtered_dataset_with_descriptors['iso_smiles'] = dataframe['iso_smiles']\n",
        "    var_filtered_dataset_with_descriptors['phase'] = dataframe['phase']\n",
        "    var_filtered_dataset_with_descriptors['status'] = dataframe['status']\n",
        "    var_filtered_dataset_with_descriptors['disease category'] = dataframe['disease category']\n",
        "\n",
        "    return var_filtered_dataset_with_descriptors\n",
        "\n",
        "\n",
        "@pytest.fixture\n",
        "def df():\n",
        "    # Создаем DataFrame для теста\n",
        "    data = {\n",
        "        'feature1': [1, 10, 40,-10],\n",
        "        'feature2': [1, 5, 10, 10],\n",
        "        'feature3': [1, 1, 1, 0],\n",
        "        'feature4': [5, 19, 18, 3],\n",
        "        'feature5': [5, 19, None, 3],\n",
        "        'disease category': np.random.choice(['A', 'B'], 4),\n",
        "        'phase': np.random.choice(['I', 'II', 'III', None], 4),\n",
        "        'status': np.random.choice(['active', 'inactive'], 4),\n",
        "        'iso_smiles': ['COO'] * 4\n",
        "    }\n",
        "    return pd.DataFrame(data)\n",
        "\n",
        "def test_filter_by_variance(df):\n",
        "    var_threshold = 0.25\n",
        "    features_to_keep = ['feature1']\n",
        "    pass_filter = ['feature3', 'feature4', 'feature5']\n",
        "\n",
        "    filtered_df = filter_by_variance(df, var_threshold, features_to_keep)\n",
        "\n",
        "    for column in filtered_df.columns:\n",
        "      if column in pass_filter:\n",
        "          assert filtered_df[column].var() >= var_threshold\n",
        "\n",
        "    expected_columns = 8\n",
        "    assert len(filtered_df.columns) == expected_columns, \"размерность выходной таблицы не соответствует ожидаемой\"\n",
        "    expected_rows = 4\n",
        "    assert filtered_df.shape[0] == expected_rows\n",
        "\n",
        "    assert  filtered_df.isnull().values.any()\n",
        "    assert 'feature2' not in filtered_df.columns\n"
      ],
      "metadata": {
        "colab": {
          "base_uri": "https://localhost:8080/"
        },
        "id": "RR0Sq9m8hEva",
        "outputId": "e462dc02-c33c-45a3-fcca-63701933af41"
      },
      "execution_count": null,
      "outputs": [
        {
          "output_type": "stream",
          "name": "stdout",
          "text": [
            "Overwriting test_filter_by_variance.py\n"
          ]
        }
      ]
    },
    {
      "cell_type": "code",
      "source": [
        "!python -m pytest test_filter_by_variance.py"
      ],
      "metadata": {
        "colab": {
          "base_uri": "https://localhost:8080/"
        },
        "id": "A8Mfyz2XGgNq",
        "outputId": "48f3c05e-3375-4463-d42e-ce33824c3b72"
      },
      "execution_count": null,
      "outputs": [
        {
          "output_type": "stream",
          "name": "stdout",
          "text": [
            "\u001b[1m======================================= test session starts ========================================\u001b[0m\n",
            "platform linux -- Python 3.10.12, pytest-7.4.4, pluggy-1.4.0\n",
            "rootdir: /content\n",
            "plugins: anyio-3.7.1\n",
            "collected 1 item                                                                                   \u001b[0m\n",
            "\n",
            "test_filter_by_variance.py \u001b[32m.\u001b[0m\u001b[32m                                                                 [100%]\u001b[0m\n",
            "\n",
            "\u001b[32m======================================== \u001b[32m\u001b[1m1 passed\u001b[0m\u001b[32m in 1.00s\u001b[0m\u001b[32m =========================================\u001b[0m\n"
          ]
        }
      ]
    }
  ]
}