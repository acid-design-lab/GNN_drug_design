{
  "nbformat": 4,
  "nbformat_minor": 0,
  "metadata": {
    "colab": {
      "provenance": []
    },
    "kernelspec": {
      "name": "python3",
      "display_name": "Python 3"
    },
    "language_info": {
      "name": "python"
    }
  },
  "cells": [
    {
      "cell_type": "code",
      "source": [
        "%%file test_generate_descriptors.py\n",
        "!pip install pytest\n",
        "!pip install rdkit\n",
        "import pandas as pd\n",
        "import numpy as np\n",
        "import pytest\n",
        "from rdkit import Chem\n",
        "from rdkit.Chem import Descriptors\n",
        "from rdkit.Chem import PandasTools\n",
        "from rdkit.ML.Descriptors.MoleculeDescriptors import MolecularDescriptorCalculator\n",
        "\n",
        "\n",
        "def generate_descriptors(file_path, smiles_column_name, phase_column_name, status_column_name, disease_column_name):\n",
        "        \"\"\"\n",
        "        :param file_path: path to the .csv table.\n",
        "        :param smiles_column_name: string reflecting the SMILES column name.\n",
        "        :return: a DataFrame object containing N columns with chemical descriptors from Rdkit\n",
        "        + 1 column with disease categories.\n",
        "        \"\"\"\n",
        "\n",
        "        input_data = pd.read_csv(file_path)[[smiles_column_name, phase_column_name, status_column_name, disease_column_name]]\n",
        "\n",
        "        unique_data = input_data.drop_duplicates(subset=[smiles_column_name, disease_column_name]).dropna(subset=[smiles_column_name, disease_column_name]).reset_index()\n",
        "\n",
        "        invalid_smiles = []\n",
        "        for smile in unique_data[smiles_column_name]:\n",
        "          mol = Chem.MolFromSmiles(smile)\n",
        "          if mol is None:\n",
        "           invalid_smiles.append(smile)\n",
        "\n",
        "        # Удаление строк с некорректными SMILES-записями\n",
        "        verify_data = unique_data[~unique_data[smiles_column_name].isin(invalid_smiles)]\n",
        "\n",
        "        desc_list = Chem.Descriptors.descList\n",
        "        unique_desc_set = set(desc_list)\n",
        "        unique_desc_list = list(unique_desc_set)\n",
        "\n",
        "        descriptors = [x[0] for x in unique_desc_list]\n",
        "        calculator = MolecularDescriptorCalculator(descriptors)\n",
        "\n",
        "        dataset_with_descriptors = []\n",
        "\n",
        "        for smile in verify_data[smiles_column_name]:\n",
        "          mol = Chem.MolFromSmiles(smile)\n",
        "          descriptors_values = calculator.CalcDescriptors(mol)\n",
        "          dataset_with_descriptors.append(descriptors_values)\n",
        "        dataset_with_descriptors = pd.DataFrame(dataset_with_descriptors, columns=descriptors)\n",
        "\n",
        "        descripted_data = pd.concat([verify_data.reset_index(drop=True), dataset_with_descriptors], axis=1)\n",
        "\n",
        "        return descripted_data\n",
        "\n",
        "\n",
        "@pytest.fixture\n",
        "def sample_data(tmp_path):\n",
        "    # Создаем CSV-файл\n",
        "    data = {\n",
        "        'SMILES': ['C(CCl)NC(=O)N(CCCl)N=O', 'C(CCl)NC(=O)N(CCCl)N=O', None,  'CC(F)C(C)C', None, 'F/C=C/F', 'F/C=C\\F',  ' CC(=O)N[C@@H](CS)C(=O)O', 'CC(=O)N[C@H](CS)C(=O)O', 'CC(CC1=CC=C=C1N'],\n",
        "\n",
        "        'Disease': ['X', 'X', 'Y', None, None, 'cancer', 'cancer', 'hematology', 'hematology', 'parcinson'],\n",
        "\n",
        "        'Phase': np.random.choice([None, 1, 2, 3],10),\n",
        "        'Status': np.random.choice(['A', 'B', None],10)\n",
        "    }\n",
        "    df = pd.DataFrame(data)\n",
        "    file_path = tmp_path / \"test_data.csv\"\n",
        "    df.to_csv(file_path, index=False)\n",
        "    return file_path\n",
        "\n",
        "def test_generate_descriptors(sample_data):\n",
        "    descriptors_df = generate_descriptors(sample_data, 'SMILES', 'Phase', 'Status', 'Disease')\n",
        "\n",
        "\n",
        "    assert descriptors_df['SMILES'].isnull().any() == False, \"есть пропущенные смайлсы\"\n",
        "    assert descriptors_df['Disease'].isnull().any() == False, \"есть пропущенные заболевания\"\n",
        "\n",
        "    assert not descriptors_df.duplicated().any()\n",
        "\n",
        "    desc_list = Chem.Descriptors.descList\n",
        "    unique_desc_set = set(desc_list)\n",
        "    unique_desc_list = list(unique_desc_set)\n",
        "\n",
        "    expected_columns = 5 + len(unique_desc_list)\n",
        "    assert len(descriptors_df.columns) == expected_columns, \"размерность выходной таблицы не соответствует ожидаемой\"\n",
        "    expected_rows = 5\n",
        "    assert descriptors_df.shape[0] == expected_rows\n",
        "\n",
        "    # Проверка, что SMILES 0 присутствует 1 раз\n",
        "    assert descriptors_df['SMILES'].value_counts().get('C(CCl)NC(=O)N(CCCl)N=O', 0) == 1\n",
        "\n",
        "    # Проверка, что SMILES 3 отсутствует\n",
        "    assert 'CC(F)C(C)C' not in descriptors_df['SMILES'].values\n",
        "\n",
        "    # Проверка, что SMILES 5-8 присутствуют\n",
        "    smiles_5_to_8 = ['F/C=C/F', 'F/C=C\\F', ' CC(=O)N[C@@H](CS)C(=O)O', 'CC(=O)N[C@H](CS)C(=O)O']\n",
        "    assert all(smile in descriptors_df['SMILES'].values for smile in smiles_5_to_8)\n",
        "\n",
        "    # Проверка, что SMILES 9 отсутствует\n",
        "    assert 'CC(CC1=CC=C=C1N' not in descriptors_df['SMILES'].values\n"
      ],
      "metadata": {
        "id": "5Eui8uyUvkQz",
        "colab": {
          "base_uri": "https://localhost:8080/"
        },
        "outputId": "8e0ab84c-ea7f-4604-8f0f-99643415bc6b"
      },
      "execution_count": null,
      "outputs": [
        {
          "output_type": "stream",
          "name": "stdout",
          "text": [
            "Overwriting test_generate_descriptors.py\n"
          ]
        }
      ]
    },
    {
      "cell_type": "code",
      "source": [
        "!python -m pytest test_generate_descriptors.py"
      ],
      "metadata": {
        "colab": {
          "base_uri": "https://localhost:8080/"
        },
        "outputId": "fb6cdace-ef15-44b4-81a0-06c2a57d2d0a",
        "id": "bff6u8XW8kgN"
      },
      "execution_count": null,
      "outputs": [
        {
          "output_type": "stream",
          "name": "stdout",
          "text": [
            "\u001b[1m======================================= test session starts ========================================\u001b[0m\n",
            "platform linux -- Python 3.10.12, pytest-7.4.4, pluggy-1.4.0\n",
            "rootdir: /content\n",
            "plugins: anyio-3.7.1\n",
            "collected 1 item                                                                                   \u001b[0m\n",
            "\n",
            "test_generate_descriptors.py \u001b[32m.\u001b[0m\u001b[32m                                                               [100%]\u001b[0m\n",
            "\n",
            "\u001b[32m======================================== \u001b[32m\u001b[1m1 passed\u001b[0m\u001b[32m in 0.95s\u001b[0m\u001b[32m =========================================\u001b[0m\n"
          ]
        }
      ]
    }
  ]
}